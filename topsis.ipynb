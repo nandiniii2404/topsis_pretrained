{
  "nbformat": 4,
  "nbformat_minor": 0,
  "metadata": {
    "colab": {
      "provenance": [],
      "authorship_tag": "ABX9TyMEBsGTanXwSCsgYJI6bxvt",
      "include_colab_link": true
    },
    "kernelspec": {
      "name": "python3",
      "display_name": "Python 3"
    },
    "language_info": {
      "name": "python"
    }
  },
  "cells": [
    {
      "cell_type": "markdown",
      "metadata": {
        "id": "view-in-github",
        "colab_type": "text"
      },
      "source": [
        "<a href=\"https://colab.research.google.com/github/nandiniii2404/topsis_pretrained/blob/main/topsis.ipynb\" target=\"_parent\"><img src=\"https://colab.research.google.com/assets/colab-badge.svg\" alt=\"Open In Colab\"/></a>"
      ]
    },
    {
      "cell_type": "code",
      "execution_count": 1,
      "metadata": {
        "id": "nTKMBLl-nbTr"
      },
      "outputs": [],
      "source": [
        "import numpy as np\n",
        "import pandas as pd"
      ]
    },
    {
      "cell_type": "code",
      "source": [
        "# Step 1: Define the data\n",
        "data = {\n",
        "    'Model': ['BART', 'T5', 'PEGASUS', 'DistilBART', 'LED'],\n",
        "    'ROUGE-1': [0.44, 0.42, 0.45, 0.41, 0.43],\n",
        "    'ROUGE-2': [0.21, 0.20, 0.22, 0.19, 0.20],\n",
        "    'Inference Time': [0.90, 0.85, 1.00, 0.65, 1.20],\n",
        "    'Model Size': [1600, 900, 2000, 1350, 1100]\n",
        "}"
      ],
      "metadata": {
        "id": "g9wSV8UznroG"
      },
      "execution_count": 2,
      "outputs": []
    },
    {
      "cell_type": "code",
      "source": [
        "df = pd.DataFrame(data)"
      ],
      "metadata": {
        "id": "aXgRrcg-ntV9"
      },
      "execution_count": 3,
      "outputs": []
    },
    {
      "cell_type": "code",
      "source": [
        "# Step 2: Normalize the decision matrix\n",
        "criteria = ['ROUGE-1', 'ROUGE-2', 'Inference Time', 'Model Size']\n",
        "weights = np.array([0.3, 0.3, 0.2, 0.2])\n",
        "impacts = ['+', '+', '-', '-']\n",
        "\n",
        "norm_df = df.copy()\n",
        "for col in criteria:\n",
        "    norm = np.sqrt(np.sum(df[col] ** 2))\n",
        "    norm_df[col] = df[col] / norm"
      ],
      "metadata": {
        "id": "jrdCRLDSnv9R"
      },
      "execution_count": 4,
      "outputs": []
    },
    {
      "cell_type": "code",
      "source": [
        "# Step 3: Apply weights\n",
        "for i, col in enumerate(criteria):\n",
        "    norm_df[col] = norm_df[col] * weights[i]"
      ],
      "metadata": {
        "id": "Eesin1Cwn0pS"
      },
      "execution_count": 5,
      "outputs": []
    },
    {
      "cell_type": "code",
      "source": [
        "# Step 4: Identify ideal best and worst\n",
        "ideal_best = []\n",
        "ideal_worst = []\n",
        "\n",
        "for i, col in enumerate(criteria):\n",
        "    if impacts[i] == '+':\n",
        "        ideal_best.append(norm_df[col].max())\n",
        "        ideal_worst.append(norm_df[col].min())\n",
        "    else:\n",
        "        ideal_best.append(norm_df[col].min())\n",
        "        ideal_worst.append(norm_df[col].max())"
      ],
      "metadata": {
        "id": "FELMk8vKn2Z-"
      },
      "execution_count": 6,
      "outputs": []
    },
    {
      "cell_type": "code",
      "source": [
        "# Step 5: Calculate Euclidean distances\n",
        "norm_df['S+'] = np.sqrt(np.sum((norm_df[criteria] - ideal_best) ** 2, axis=1))\n",
        "norm_df['S-'] = np.sqrt(np.sum((norm_df[criteria] - ideal_worst) ** 2, axis=1))\n"
      ],
      "metadata": {
        "id": "3TOWrmNtn9OG"
      },
      "execution_count": 7,
      "outputs": []
    },
    {
      "cell_type": "code",
      "source": [
        "# Step 6: Calculate TOPSIS scores\n",
        "norm_df['Topsis Score'] = norm_df['S-'] / (norm_df['S+'] + norm_df['S-'])\n",
        "norm_df['Rank'] = norm_df['Topsis Score'].rank(ascending=False).astype(int)\n"
      ],
      "metadata": {
        "id": "b1I2-OYqn_rA"
      },
      "execution_count": 8,
      "outputs": []
    },
    {
      "cell_type": "code",
      "source": [
        "# Step 7: Final output\n",
        "final_result = norm_df[['Model', 'Topsis Score', 'Rank']].sort_values(by='Rank')\n",
        "print(final_result.to_string(index=False))"
      ],
      "metadata": {
        "colab": {
          "base_uri": "https://localhost:8080/"
        },
        "id": "maaTvhjRoCkn",
        "outputId": "2ddf2d11-0808-4f2a-a28d-200c691254e1"
      },
      "execution_count": 9,
      "outputs": [
        {
          "output_type": "stream",
          "name": "stdout",
          "text": [
            "     Model  Topsis Score  Rank\n",
            "        T5      0.753316     1\n",
            "DistilBART      0.645309     2\n",
            "       LED      0.503098     3\n",
            "      BART      0.451246     4\n",
            "   PEGASUS      0.284059     5\n"
          ]
        }
      ]
    }
  ]
}